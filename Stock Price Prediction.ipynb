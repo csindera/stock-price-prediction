{
 "cells": [
  {
   "cell_type": "markdown",
   "metadata": {},
   "source": [
    "# Stock Price Prediction"
   ]
  },
  {
   "cell_type": "markdown",
   "metadata": {},
   "source": [
    "## Problem Statement\n",
    "\n",
    "Predicting stock price is an intensive and time-consuming task. A sell or buy decision made on the right time can drastically affect your profits.\n",
    "\n",
    "With wealth of information that is available in the form of historical stock prices and company performance data and the advancement of computing power, machine learning can be used to predict stock price trend using technical analysis, and therefore allowing investors to make sound decisions on when to buy or sell their stocks, thus maximizing the profits.\n",
    "\n",
    "In in notebook we will work with historical stock data of Intel Inc. We will implement two machine learning algorithms (Moving Average and LSTM) to predict the future daily closing prices of the company, and subsequently choose the best out of the two algorithms to develop our personal stock price predictor.\n"
   ]
  },
  {
   "cell_type": "markdown",
   "metadata": {},
   "source": [
    "## Dataset\n",
    "We will be using the [Intel Inc](https://www.quandl.com/data/EOD/INTC-Intel-Corporation-INTC-Stock-Prices-Dividends-and-Splits) dataset. You can also download the dataset from my Github."
   ]
  },
  {
   "cell_type": "markdown",
   "metadata": {},
   "source": [
    "### Import Libraries"
   ]
  },
  {
   "cell_type": "code",
   "execution_count": 1,
   "metadata": {},
   "outputs": [
    {
     "name": "stderr",
     "output_type": "stream",
     "text": [
      "Using TensorFlow backend.\n",
      "C:\\Apps\\anaconda3\\lib\\site-packages\\tensorflow\\python\\framework\\dtypes.py:526: FutureWarning: Passing (type, 1) or '1type' as a synonym of type is deprecated; in a future version of numpy, it will be understood as (type, (1,)) / '(1,)type'.\n",
      "  _np_qint8 = np.dtype([(\"qint8\", np.int8, 1)])\n",
      "C:\\Apps\\anaconda3\\lib\\site-packages\\tensorflow\\python\\framework\\dtypes.py:527: FutureWarning: Passing (type, 1) or '1type' as a synonym of type is deprecated; in a future version of numpy, it will be understood as (type, (1,)) / '(1,)type'.\n",
      "  _np_quint8 = np.dtype([(\"quint8\", np.uint8, 1)])\n",
      "C:\\Apps\\anaconda3\\lib\\site-packages\\tensorflow\\python\\framework\\dtypes.py:528: FutureWarning: Passing (type, 1) or '1type' as a synonym of type is deprecated; in a future version of numpy, it will be understood as (type, (1,)) / '(1,)type'.\n",
      "  _np_qint16 = np.dtype([(\"qint16\", np.int16, 1)])\n",
      "C:\\Apps\\anaconda3\\lib\\site-packages\\tensorflow\\python\\framework\\dtypes.py:529: FutureWarning: Passing (type, 1) or '1type' as a synonym of type is deprecated; in a future version of numpy, it will be understood as (type, (1,)) / '(1,)type'.\n",
      "  _np_quint16 = np.dtype([(\"quint16\", np.uint16, 1)])\n",
      "C:\\Apps\\anaconda3\\lib\\site-packages\\tensorflow\\python\\framework\\dtypes.py:530: FutureWarning: Passing (type, 1) or '1type' as a synonym of type is deprecated; in a future version of numpy, it will be understood as (type, (1,)) / '(1,)type'.\n",
      "  _np_qint32 = np.dtype([(\"qint32\", np.int32, 1)])\n",
      "C:\\Apps\\anaconda3\\lib\\site-packages\\tensorflow\\python\\framework\\dtypes.py:535: FutureWarning: Passing (type, 1) or '1type' as a synonym of type is deprecated; in a future version of numpy, it will be understood as (type, (1,)) / '(1,)type'.\n",
      "  np_resource = np.dtype([(\"resource\", np.ubyte, 1)])\n"
     ]
    }
   ],
   "source": [
    "import pandas as pd\n",
    "import numpy as np\n",
    "\n",
    "# for reproducibility of our results\n",
    "np.random.seed(1234)\n",
    "\n",
    "from datetime import date\n",
    "from matplotlib import pyplot as plt\n",
    "%matplotlib inline\n",
    "\n",
    "from sklearn.preprocessing import MinMaxScaler\n",
    "from keras.models import Sequential\n",
    "from keras.layers import Dense, Dropout, LSTM"
   ]
  },
  {
   "cell_type": "code",
   "execution_count": 2,
   "metadata": {},
   "outputs": [],
   "source": [
    "# pre-set the plot font sizes...\n",
    "\n",
    "SMALL_SIZE = 12\n",
    "MEDIUM_SIZE = 14\n",
    "BIGGER_SIZE = 16\n",
    "\n",
    "plt.rc('font', size=MEDIUM_SIZE)          # controls default text sizes\n",
    "plt.rc('axes', titlesize=SMALL_SIZE)      # fontsize of the axes title\n",
    "plt.rc('axes', labelsize=BIGGER_SIZE)     # fontsize of the x and y labels\n",
    "plt.rc('xtick', labelsize=MEDIUM_SIZE)    # fontsize of the tick labels\n",
    "plt.rc('ytick', labelsize=MEDIUM_SIZE)    # fontsize of the tick labels\n",
    "plt.rc('legend', fontsize=SMALL_SIZE)     # legend fontsize\n",
    "plt.rc('figure', titlesize=BIGGER_SIZE)   # fontsize of the figure title"
   ]
  },
  {
   "cell_type": "markdown",
   "metadata": {},
   "source": [
    "### Some helper functions"
   ]
  },
  {
   "cell_type": "code",
   "execution_count": 3,
   "metadata": {},
   "outputs": [],
   "source": [
    "def get_mape(y_true, y_pred): \n",
    "    \"\"\"\n",
    "    Compute Mean Absolute Percentage Error (MAPE)\n",
    "    \n",
    "    INPUT:\n",
    "    y_true - actual variable\n",
    "    y_pred - predicted variable\n",
    "    \n",
    "    OUTPUT:\n",
    "    mape - Mean Absolute Percentage Error (%)\n",
    "    \n",
    "    \"\"\"\n",
    "    y_true, y_pred = np.array(y_true), np.array(y_pred)\n",
    "    \n",
    "    mape = np.mean(np.abs((y_true - y_pred) / y_true)) * 100\n",
    "    \n",
    "    return mape\n",
    "\n",
    "def get_rmse(y_true, y_pred):\n",
    "    \"\"\"\n",
    "    Compute Root Mean Squared Error (RMSE)\n",
    "    \n",
    "    INPUT:\n",
    "    y_true - actual variable\n",
    "    y_pred - predicted variable\n",
    "    \n",
    "    OUTPUT:\n",
    "    rmse - Root Mean Squared Error\n",
    "    \n",
    "    \"\"\"\n",
    "    rmse = np.sqrt(np.mean(np.power((y_true - y_pred),2)))\n",
    "                   \n",
    "    return rmse"
   ]
  },
  {
   "cell_type": "markdown",
   "metadata": {},
   "source": [
    "## Exploratory Analysis\n",
    "Let's import our dataset and have a quick view on it."
   ]
  },
  {
   "cell_type": "code",
   "execution_count": 4,
   "metadata": {},
   "outputs": [],
   "source": [
    "# read dataset\n",
    "df = pd.read_csv('data/EOD-INTC.csv')"
   ]
  },
  {
   "cell_type": "code",
   "execution_count": 5,
   "metadata": {},
   "outputs": [
    {
     "data": {
      "text/plain": [
       "(1090, 13)"
      ]
     },
     "execution_count": 5,
     "metadata": {},
     "output_type": "execute_result"
    }
   ],
   "source": [
    "# dataframe dimensions\n",
    "df.shape"
   ]
  },
  {
   "cell_type": "code",
   "execution_count": 6,
   "metadata": {},
   "outputs": [
    {
     "data": {
      "text/plain": [
       "Date           object\n",
       "Open          float64\n",
       "High          float64\n",
       "Low           float64\n",
       "Close         float64\n",
       "Volume        float64\n",
       "Dividend      float64\n",
       "Split         float64\n",
       "Adj_Open      float64\n",
       "Adj_High      float64\n",
       "Adj_Low       float64\n",
       "Adj_Close     float64\n",
       "Adj_Volume    float64\n",
       "dtype: object"
      ]
     },
     "execution_count": 6,
     "metadata": {},
     "output_type": "execute_result"
    }
   ],
   "source": [
    "# column data types\n",
    "df.dtypes"
   ]
  },
  {
   "cell_type": "code",
   "execution_count": 7,
   "metadata": {},
   "outputs": [
    {
     "data": {
      "text/html": [
       "<div>\n",
       "<style scoped>\n",
       "    .dataframe tbody tr th:only-of-type {\n",
       "        vertical-align: middle;\n",
       "    }\n",
       "\n",
       "    .dataframe tbody tr th {\n",
       "        vertical-align: top;\n",
       "    }\n",
       "\n",
       "    .dataframe thead th {\n",
       "        text-align: right;\n",
       "    }\n",
       "</style>\n",
       "<table border=\"1\" class=\"dataframe\">\n",
       "  <thead>\n",
       "    <tr style=\"text-align: right;\">\n",
       "      <th></th>\n",
       "      <th>Date</th>\n",
       "      <th>Open</th>\n",
       "      <th>High</th>\n",
       "      <th>Low</th>\n",
       "      <th>Close</th>\n",
       "      <th>Volume</th>\n",
       "      <th>Dividend</th>\n",
       "      <th>Split</th>\n",
       "      <th>Adj_Open</th>\n",
       "      <th>Adj_High</th>\n",
       "      <th>Adj_Low</th>\n",
       "      <th>Adj_Close</th>\n",
       "      <th>Adj_Volume</th>\n",
       "    </tr>\n",
       "  </thead>\n",
       "  <tbody>\n",
       "    <tr>\n",
       "      <th>0</th>\n",
       "      <td>2017-12-28</td>\n",
       "      <td>46.36</td>\n",
       "      <td>46.36</td>\n",
       "      <td>45.950</td>\n",
       "      <td>46.22</td>\n",
       "      <td>9504372.0</td>\n",
       "      <td>0.0</td>\n",
       "      <td>1.0</td>\n",
       "      <td>43.065202</td>\n",
       "      <td>43.065202</td>\n",
       "      <td>42.684341</td>\n",
       "      <td>42.935152</td>\n",
       "      <td>9504372.0</td>\n",
       "    </tr>\n",
       "    <tr>\n",
       "      <th>1</th>\n",
       "      <td>2017-12-27</td>\n",
       "      <td>46.11</td>\n",
       "      <td>46.36</td>\n",
       "      <td>46.000</td>\n",
       "      <td>46.11</td>\n",
       "      <td>13359671.0</td>\n",
       "      <td>0.0</td>\n",
       "      <td>1.0</td>\n",
       "      <td>42.832969</td>\n",
       "      <td>43.065202</td>\n",
       "      <td>42.730787</td>\n",
       "      <td>42.832969</td>\n",
       "      <td>13359671.0</td>\n",
       "    </tr>\n",
       "    <tr>\n",
       "      <th>2</th>\n",
       "      <td>2017-12-26</td>\n",
       "      <td>46.28</td>\n",
       "      <td>46.47</td>\n",
       "      <td>45.950</td>\n",
       "      <td>46.08</td>\n",
       "      <td>15533328.0</td>\n",
       "      <td>0.0</td>\n",
       "      <td>1.0</td>\n",
       "      <td>42.990887</td>\n",
       "      <td>43.167384</td>\n",
       "      <td>42.684341</td>\n",
       "      <td>42.805101</td>\n",
       "      <td>15533328.0</td>\n",
       "    </tr>\n",
       "    <tr>\n",
       "      <th>3</th>\n",
       "      <td>2017-12-22</td>\n",
       "      <td>46.33</td>\n",
       "      <td>47.02</td>\n",
       "      <td>46.020</td>\n",
       "      <td>46.70</td>\n",
       "      <td>33913537.0</td>\n",
       "      <td>0.0</td>\n",
       "      <td>1.0</td>\n",
       "      <td>43.037334</td>\n",
       "      <td>43.678296</td>\n",
       "      <td>42.749366</td>\n",
       "      <td>43.381038</td>\n",
       "      <td>33913537.0</td>\n",
       "    </tr>\n",
       "    <tr>\n",
       "      <th>4</th>\n",
       "      <td>2017-12-21</td>\n",
       "      <td>47.54</td>\n",
       "      <td>47.59</td>\n",
       "      <td>46.560</td>\n",
       "      <td>46.76</td>\n",
       "      <td>42963451.0</td>\n",
       "      <td>0.0</td>\n",
       "      <td>1.0</td>\n",
       "      <td>44.161339</td>\n",
       "      <td>44.207786</td>\n",
       "      <td>43.250988</td>\n",
       "      <td>43.436774</td>\n",
       "      <td>42963451.0</td>\n",
       "    </tr>\n",
       "    <tr>\n",
       "      <th>5</th>\n",
       "      <td>2017-12-20</td>\n",
       "      <td>47.47</td>\n",
       "      <td>47.64</td>\n",
       "      <td>46.660</td>\n",
       "      <td>47.56</td>\n",
       "      <td>40934978.0</td>\n",
       "      <td>0.0</td>\n",
       "      <td>1.0</td>\n",
       "      <td>44.096314</td>\n",
       "      <td>44.254233</td>\n",
       "      <td>43.343881</td>\n",
       "      <td>44.179918</td>\n",
       "      <td>40934978.0</td>\n",
       "    </tr>\n",
       "    <tr>\n",
       "      <th>6</th>\n",
       "      <td>2017-12-19</td>\n",
       "      <td>46.30</td>\n",
       "      <td>47.26</td>\n",
       "      <td>45.890</td>\n",
       "      <td>47.04</td>\n",
       "      <td>41421116.0</td>\n",
       "      <td>0.0</td>\n",
       "      <td>1.0</td>\n",
       "      <td>43.009466</td>\n",
       "      <td>43.901239</td>\n",
       "      <td>42.628605</td>\n",
       "      <td>43.696874</td>\n",
       "      <td>41421116.0</td>\n",
       "    </tr>\n",
       "    <tr>\n",
       "      <th>7</th>\n",
       "      <td>2017-12-18</td>\n",
       "      <td>45.15</td>\n",
       "      <td>46.35</td>\n",
       "      <td>45.040</td>\n",
       "      <td>46.26</td>\n",
       "      <td>50369327.0</td>\n",
       "      <td>0.0</td>\n",
       "      <td>1.0</td>\n",
       "      <td>41.941196</td>\n",
       "      <td>43.055913</td>\n",
       "      <td>41.839014</td>\n",
       "      <td>42.972309</td>\n",
       "      <td>50369327.0</td>\n",
       "    </tr>\n",
       "    <tr>\n",
       "      <th>8</th>\n",
       "      <td>2017-12-15</td>\n",
       "      <td>43.40</td>\n",
       "      <td>44.84</td>\n",
       "      <td>43.070</td>\n",
       "      <td>44.56</td>\n",
       "      <td>47476952.0</td>\n",
       "      <td>0.0</td>\n",
       "      <td>1.0</td>\n",
       "      <td>40.315569</td>\n",
       "      <td>41.653228</td>\n",
       "      <td>40.009022</td>\n",
       "      <td>41.393128</td>\n",
       "      <td>47476952.0</td>\n",
       "    </tr>\n",
       "    <tr>\n",
       "      <th>9</th>\n",
       "      <td>2017-12-14</td>\n",
       "      <td>43.43</td>\n",
       "      <td>43.57</td>\n",
       "      <td>43.015</td>\n",
       "      <td>43.26</td>\n",
       "      <td>19644917.0</td>\n",
       "      <td>0.0</td>\n",
       "      <td>1.0</td>\n",
       "      <td>40.343437</td>\n",
       "      <td>40.473487</td>\n",
       "      <td>39.957931</td>\n",
       "      <td>40.185518</td>\n",
       "      <td>19644917.0</td>\n",
       "    </tr>\n",
       "  </tbody>\n",
       "</table>\n",
       "</div>"
      ],
      "text/plain": [
       "         Date   Open   High     Low  Close      Volume  Dividend  Split  \\\n",
       "0  2017-12-28  46.36  46.36  45.950  46.22   9504372.0       0.0    1.0   \n",
       "1  2017-12-27  46.11  46.36  46.000  46.11  13359671.0       0.0    1.0   \n",
       "2  2017-12-26  46.28  46.47  45.950  46.08  15533328.0       0.0    1.0   \n",
       "3  2017-12-22  46.33  47.02  46.020  46.70  33913537.0       0.0    1.0   \n",
       "4  2017-12-21  47.54  47.59  46.560  46.76  42963451.0       0.0    1.0   \n",
       "5  2017-12-20  47.47  47.64  46.660  47.56  40934978.0       0.0    1.0   \n",
       "6  2017-12-19  46.30  47.26  45.890  47.04  41421116.0       0.0    1.0   \n",
       "7  2017-12-18  45.15  46.35  45.040  46.26  50369327.0       0.0    1.0   \n",
       "8  2017-12-15  43.40  44.84  43.070  44.56  47476952.0       0.0    1.0   \n",
       "9  2017-12-14  43.43  43.57  43.015  43.26  19644917.0       0.0    1.0   \n",
       "\n",
       "    Adj_Open   Adj_High    Adj_Low  Adj_Close  Adj_Volume  \n",
       "0  43.065202  43.065202  42.684341  42.935152   9504372.0  \n",
       "1  42.832969  43.065202  42.730787  42.832969  13359671.0  \n",
       "2  42.990887  43.167384  42.684341  42.805101  15533328.0  \n",
       "3  43.037334  43.678296  42.749366  43.381038  33913537.0  \n",
       "4  44.161339  44.207786  43.250988  43.436774  42963451.0  \n",
       "5  44.096314  44.254233  43.343881  44.179918  40934978.0  \n",
       "6  43.009466  43.901239  42.628605  43.696874  41421116.0  \n",
       "7  41.941196  43.055913  41.839014  42.972309  50369327.0  \n",
       "8  40.315569  41.653228  40.009022  41.393128  47476952.0  \n",
       "9  40.343437  40.473487  39.957931  40.185518  19644917.0  "
      ]
     },
     "execution_count": 7,
     "metadata": {},
     "output_type": "execute_result"
    }
   ],
   "source": [
    "# display top 10 observations of the dataset\n",
    "df.head(10)"
   ]
  },
  {
   "cell_type": "code",
   "execution_count": 8,
   "metadata": {},
   "outputs": [
    {
     "data": {
      "text/html": [
       "<div>\n",
       "<style scoped>\n",
       "    .dataframe tbody tr th:only-of-type {\n",
       "        vertical-align: middle;\n",
       "    }\n",
       "\n",
       "    .dataframe tbody tr th {\n",
       "        vertical-align: top;\n",
       "    }\n",
       "\n",
       "    .dataframe thead th {\n",
       "        text-align: right;\n",
       "    }\n",
       "</style>\n",
       "<table border=\"1\" class=\"dataframe\">\n",
       "  <thead>\n",
       "    <tr style=\"text-align: right;\">\n",
       "      <th></th>\n",
       "      <th>Open</th>\n",
       "      <th>High</th>\n",
       "      <th>Low</th>\n",
       "      <th>Close</th>\n",
       "      <th>Volume</th>\n",
       "      <th>Dividend</th>\n",
       "      <th>Split</th>\n",
       "      <th>Adj_Open</th>\n",
       "      <th>Adj_High</th>\n",
       "      <th>Adj_Low</th>\n",
       "      <th>Adj_Close</th>\n",
       "      <th>Adj_Volume</th>\n",
       "    </tr>\n",
       "  </thead>\n",
       "  <tbody>\n",
       "    <tr>\n",
       "      <th>count</th>\n",
       "      <td>1090.000000</td>\n",
       "      <td>1090.000000</td>\n",
       "      <td>1090.000000</td>\n",
       "      <td>1090.000000</td>\n",
       "      <td>1.090000e+03</td>\n",
       "      <td>1090.000000</td>\n",
       "      <td>1090.0</td>\n",
       "      <td>1090.000000</td>\n",
       "      <td>1090.000000</td>\n",
       "      <td>1090.000000</td>\n",
       "      <td>1090.000000</td>\n",
       "      <td>1.090000e+03</td>\n",
       "    </tr>\n",
       "    <tr>\n",
       "      <th>mean</th>\n",
       "      <td>32.630198</td>\n",
       "      <td>32.914932</td>\n",
       "      <td>32.366546</td>\n",
       "      <td>32.662958</td>\n",
       "      <td>2.751649e+07</td>\n",
       "      <td>0.003856</td>\n",
       "      <td>1.0</td>\n",
       "      <td>28.596575</td>\n",
       "      <td>28.845280</td>\n",
       "      <td>28.365734</td>\n",
       "      <td>28.625122</td>\n",
       "      <td>2.751649e+07</td>\n",
       "    </tr>\n",
       "    <tr>\n",
       "      <th>std</th>\n",
       "      <td>4.878730</td>\n",
       "      <td>4.903212</td>\n",
       "      <td>4.834242</td>\n",
       "      <td>4.879762</td>\n",
       "      <td>1.278323e+07</td>\n",
       "      <td>0.030726</td>\n",
       "      <td>0.0</td>\n",
       "      <td>5.142092</td>\n",
       "      <td>5.167886</td>\n",
       "      <td>5.098526</td>\n",
       "      <td>5.143473</td>\n",
       "      <td>1.278323e+07</td>\n",
       "    </tr>\n",
       "    <tr>\n",
       "      <th>min</th>\n",
       "      <td>22.210000</td>\n",
       "      <td>22.240000</td>\n",
       "      <td>21.970000</td>\n",
       "      <td>22.067000</td>\n",
       "      <td>5.893789e+06</td>\n",
       "      <td>0.000000</td>\n",
       "      <td>1.0</td>\n",
       "      <td>18.099864</td>\n",
       "      <td>18.124313</td>\n",
       "      <td>17.904278</td>\n",
       "      <td>17.983328</td>\n",
       "      <td>5.893789e+06</td>\n",
       "    </tr>\n",
       "    <tr>\n",
       "      <th>25%</th>\n",
       "      <td>29.662500</td>\n",
       "      <td>30.035000</td>\n",
       "      <td>29.452500</td>\n",
       "      <td>29.737500</td>\n",
       "      <td>1.997469e+07</td>\n",
       "      <td>0.000000</td>\n",
       "      <td>1.0</td>\n",
       "      <td>25.672825</td>\n",
       "      <td>25.965026</td>\n",
       "      <td>25.361902</td>\n",
       "      <td>25.759755</td>\n",
       "      <td>1.997469e+07</td>\n",
       "    </tr>\n",
       "    <tr>\n",
       "      <th>50%</th>\n",
       "      <td>33.615000</td>\n",
       "      <td>33.950000</td>\n",
       "      <td>33.245000</td>\n",
       "      <td>33.640000</td>\n",
       "      <td>2.456095e+07</td>\n",
       "      <td>0.000000</td>\n",
       "      <td>1.0</td>\n",
       "      <td>28.707943</td>\n",
       "      <td>28.952093</td>\n",
       "      <td>28.482547</td>\n",
       "      <td>28.759941</td>\n",
       "      <td>2.456095e+07</td>\n",
       "    </tr>\n",
       "    <tr>\n",
       "      <th>75%</th>\n",
       "      <td>35.590000</td>\n",
       "      <td>35.890000</td>\n",
       "      <td>35.317500</td>\n",
       "      <td>35.597500</td>\n",
       "      <td>3.111780e+07</td>\n",
       "      <td>0.000000</td>\n",
       "      <td>1.0</td>\n",
       "      <td>31.910852</td>\n",
       "      <td>32.159808</td>\n",
       "      <td>31.773663</td>\n",
       "      <td>31.991365</td>\n",
       "      <td>3.111780e+07</td>\n",
       "    </tr>\n",
       "    <tr>\n",
       "      <th>max</th>\n",
       "      <td>47.540000</td>\n",
       "      <td>47.640000</td>\n",
       "      <td>46.660000</td>\n",
       "      <td>47.560000</td>\n",
       "      <td>1.358932e+08</td>\n",
       "      <td>0.272500</td>\n",
       "      <td>1.0</td>\n",
       "      <td>44.161339</td>\n",
       "      <td>44.254233</td>\n",
       "      <td>43.343881</td>\n",
       "      <td>44.179918</td>\n",
       "      <td>1.358932e+08</td>\n",
       "    </tr>\n",
       "  </tbody>\n",
       "</table>\n",
       "</div>"
      ],
      "text/plain": [
       "              Open         High          Low        Close        Volume  \\\n",
       "count  1090.000000  1090.000000  1090.000000  1090.000000  1.090000e+03   \n",
       "mean     32.630198    32.914932    32.366546    32.662958  2.751649e+07   \n",
       "std       4.878730     4.903212     4.834242     4.879762  1.278323e+07   \n",
       "min      22.210000    22.240000    21.970000    22.067000  5.893789e+06   \n",
       "25%      29.662500    30.035000    29.452500    29.737500  1.997469e+07   \n",
       "50%      33.615000    33.950000    33.245000    33.640000  2.456095e+07   \n",
       "75%      35.590000    35.890000    35.317500    35.597500  3.111780e+07   \n",
       "max      47.540000    47.640000    46.660000    47.560000  1.358932e+08   \n",
       "\n",
       "          Dividend   Split     Adj_Open     Adj_High      Adj_Low  \\\n",
       "count  1090.000000  1090.0  1090.000000  1090.000000  1090.000000   \n",
       "mean      0.003856     1.0    28.596575    28.845280    28.365734   \n",
       "std       0.030726     0.0     5.142092     5.167886     5.098526   \n",
       "min       0.000000     1.0    18.099864    18.124313    17.904278   \n",
       "25%       0.000000     1.0    25.672825    25.965026    25.361902   \n",
       "50%       0.000000     1.0    28.707943    28.952093    28.482547   \n",
       "75%       0.000000     1.0    31.910852    32.159808    31.773663   \n",
       "max       0.272500     1.0    44.161339    44.254233    43.343881   \n",
       "\n",
       "         Adj_Close    Adj_Volume  \n",
       "count  1090.000000  1.090000e+03  \n",
       "mean     28.625122  2.751649e+07  \n",
       "std       5.143473  1.278323e+07  \n",
       "min      17.983328  5.893789e+06  \n",
       "25%      25.759755  1.997469e+07  \n",
       "50%      28.759941  2.456095e+07  \n",
       "75%      31.991365  3.111780e+07  \n",
       "max      44.179918  1.358932e+08  "
      ]
     },
     "execution_count": 8,
     "metadata": {},
     "output_type": "execute_result"
    }
   ],
   "source": [
    "# sumarize numerical features\n",
    "df.describe()"
   ]
  },
  {
   "cell_type": "markdown",
   "metadata": {},
   "source": [
    "There is no missing value, suspected structural error or suspected outliers in the dataset. Data was collected in a complete form and had been QC'ed.\n",
    "\n",
    "This is as expected as the dataset is downloaded from [Quandl](https://www.quandl.com/), a company that offers trading dataset to customers."
   ]
  },
  {
   "cell_type": "markdown",
   "metadata": {},
   "source": [
    "## Data Cleaning\n",
    "Let's remove duplicated observations from the databset, if any..."
   ]
  },
  {
   "cell_type": "code",
   "execution_count": 9,
   "metadata": {},
   "outputs": [
    {
     "name": "stdout",
     "output_type": "stream",
     "text": [
      "(1090, 13)\n"
     ]
    }
   ],
   "source": [
    "# Drop duplicates\n",
    "df = df.drop_duplicates()\n",
    "print(df.shape) "
   ]
  },
  {
   "cell_type": "markdown",
   "metadata": {},
   "source": [
    "We don't have any duplicated data as well. \n",
    "\n",
    "You will find some dates are missing because market is closed on weekends and public holidays, i.e.:\n",
    "* 2017–12–23 (Saturday)\n",
    "* 2017–12–24 (Sunday)\n",
    "* 2017–12–25 (Christmas Day)"
   ]
  },
  {
   "cell_type": "markdown",
   "metadata": {},
   "source": [
    "## Data Preprocessing\n",
    "We will do some preprocessing / manipulation to the data so that we can use it for our time series forecasting."
   ]
  },
  {
   "cell_type": "code",
   "execution_count": 10,
   "metadata": {},
   "outputs": [],
   "source": [
    "# convert Date column to datetime\n",
    "df['Date'] = pd.to_datetime(df['Date'], format = '%Y-%m-%d')"
   ]
  },
  {
   "cell_type": "code",
   "execution_count": 11,
   "metadata": {},
   "outputs": [],
   "source": [
    "# sort by datetime\n",
    "df.sort_values(by='Date', inplace=True, ascending=True)"
   ]
  },
  {
   "cell_type": "markdown",
   "metadata": {},
   "source": [
    "Let's visualize the closing price."
   ]
  },
  {
   "cell_type": "code",
   "execution_count": 12,
   "metadata": {},
   "outputs": [
    {
     "data": {
      "image/png": "[encoded data removed]",
      "text/plain": [
       "<Figure size 1152x576 with 1 Axes>"
      ]
     },
     "metadata": {
      "needs_background": "light"
     },
     "output_type": "display_data"
    }
   ],
   "source": [
    "plt.figure(figsize = (16,8))\n",
    "plt.plot(df['Date'], df['Close'], label = 'Closing Price History')\n",
    "plt.legend(loc = \"upper left\")\n",
    "plt.xlabel('Year')\n",
    "plt.ylabel('Stock Price ($)')\n",
    "plt.show()"
   ]
  },
  {
   "cell_type": "markdown",
   "metadata": {},
   "source": [
    "#### Split data into training and testing data\n",
    "Before we begin our modelling, we will split our dataset into training and testing data.\n",
    "\n",
    "For time series forecasting, we cannot use random split to split our data, this is because it will destory the time component of the data. We will set earlier 80% of data to training dataset and remaining 20% data to testing dataset."
   ]
  },
  {
   "cell_type": "code",
   "execution_count": 13,
   "metadata": {},
   "outputs": [
    {
     "name": "stdout",
     "output_type": "stream",
     "text": [
      "train_num: 872\n",
      "test_num: 218\n"
     ]
    }
   ],
   "source": [
    "test_size = 0.2\n",
    "training_size = 1 - test_size\n",
    "\n",
    "test_num = int(test_size * len(df))\n",
    "train_num = int(training_size * len(df))\n",
    "\n",
    "print(\"train_num: \" + str(train_num))\n",
    "print(\"test_num: \" + str(test_num))"
   ]
  },
  {
   "cell_type": "code",
   "execution_count": 14,
   "metadata": {},
   "outputs": [],
   "source": [
    "train = df[:train_num][['Date', 'Close']]\n",
    "test = df[train_num:][['Date', 'Close']]"
   ]
  },
  {
   "cell_type": "markdown",
   "metadata": {},
   "source": [
    "### Moving Average Algorithm"
   ]
  },
  {
   "cell_type": "code",
   "execution_count": 15,
   "metadata": {},
   "outputs": [],
   "source": [
    "preds = []\n",
    "\n",
    "for i in range(0, test.shape[0]):\n",
    "    a = train['Close'][len(train) - test.shape[0] + i:].sum() + test['Close'][:i].sum()\n",
    "    b = a/test.shape[0]\n",
    "    preds.append(b)"
   ]
  },
  {
   "cell_type": "code",
   "execution_count": 16,
   "metadata": {},
   "outputs": [
    {
     "data": {
      "image/png": "[encoded data removed]",
      "text/plain": [
       "<Figure size 1440x720 with 1 Axes>"
      ]
     },
     "metadata": {
      "needs_background": "light"
     },
     "output_type": "display_data"
    }
   ],
   "source": [
    "# Plot predicted price vs actual closing price \n",
    "\n",
    "test['Predictions_ma'] = preds\n",
    "plt.figure(figsize = (20,10))\n",
    "plt.xlabel('Year')\n",
    "plt.ylabel('Stock Price ($)')\n",
    "plt.plot(train['Date'], train['Close'], label = 'Closing Price History [train data]')\n",
    "plt.plot(test['Date'], test['Close'], label = 'Closing Price History [test data]')\n",
    "plt.plot(test['Date'], test['Predictions_ma'], label = 'Closing Price - Predicted')\n",
    "plt.legend(loc = \"upper left\")\n",
    "plt.show()"
   ]
  },
  {
   "cell_type": "code",
   "execution_count": 17,
   "metadata": {},
   "outputs": [
    {
     "name": "stdout",
     "output_type": "stream",
     "text": [
      "Root Mean Squared Error: 3.9597817916358133\n",
      "Mean Absolute Percentage Error (%): 6.175502851776837\n"
     ]
    }
   ],
   "source": [
    "# Evaluate performance\n",
    "rmse_ma = get_rmse(np.array(test['Close']), np.array(test['Predictions_ma']))\n",
    "print('Root Mean Squared Error: ' + str(rmse_ma))\n",
    "mape_ma = get_mape(np.array(test['Close']), np.array(test['Predictions_ma']))\n",
    "print('Mean Absolute Percentage Error (%): ' + str(mape_ma))"
   ]
  },
  {
   "cell_type": "markdown",
   "metadata": {},
   "source": [
    "### LSTM Algorithm\n",
    "Long Short Term Memory (LSTM)"
   ]
  },
  {
   "cell_type": "markdown",
   "metadata": {},
   "source": [
    "Standardise all our feature variables to the same scale"
   ]
  },
  {
   "cell_type": "code",
   "execution_count": 18,
   "metadata": {},
   "outputs": [],
   "source": [
    "# scale our dataset\n",
    "scaler = MinMaxScaler(feature_range=(0, 1))\n",
    "scaled_data = scaler.fit_transform(df[['Close']])\n",
    "scaled_data_train = scaled_data[:train.shape[0]]"
   ]
  },
  {
   "cell_type": "code",
   "execution_count": 19,
   "metadata": {},
   "outputs": [],
   "source": [
    "# create a useful function to split our data into X and y\n",
    "\n",
    "def get_x_y(data, N, offset):\n",
    "    \"\"\"\n",
    "    Split data into input variable (X) and output variable (y)\n",
    "    \n",
    "    INPUT:\n",
    "    data - dataset to be splitted\n",
    "    N - time frame to be used\n",
    "    offset - position to start the split\n",
    "    \n",
    "    OUTPUT:\n",
    "    X - input variable\n",
    "    y - output variable\n",
    "    \"\"\"\n",
    "    X, y = [], []\n",
    "    \n",
    "    for i in range(offset, len(data)):\n",
    "        X.append(data[i-N:i])\n",
    "        y.append(data[i])\n",
    "    \n",
    "    X = np.array(X)\n",
    "    y = np.array(y)\n",
    "    \n",
    "    return X, y"
   ]
  },
  {
   "cell_type": "code",
   "execution_count": 20,
   "metadata": {},
   "outputs": [],
   "source": [
    "# we use past 60 days stock prices for our training to predict 61th day's closing price.\n",
    "\n",
    "X_train, y_train = get_x_y(scaled_data_train, 60, 60)"
   ]
  },
  {
   "cell_type": "markdown",
   "metadata": {},
   "source": [
    "#### Create LSTM Network"
   ]
  },
  {
   "cell_type": "code",
   "execution_count": 21,
   "metadata": {},
   "outputs": [
    {
     "name": "stdout",
     "output_type": "stream",
     "text": [
      "WARNING:tensorflow:From C:\\Apps\\anaconda3\\lib\\site-packages\\tensorflow\\python\\framework\\op_def_library.py:263: colocate_with (from tensorflow.python.framework.ops) is deprecated and will be removed in a future version.\n",
      "Instructions for updating:\n",
      "Colocations handled automatically by placer.\n"
     ]
    }
   ],
   "source": [
    "# initial LSTM parameters\n",
    "lstm_units = 50 \n",
    "optimizer = 'adam'\n",
    "epochs = 1\n",
    "batch_size = 1\n",
    "\n",
    "model = Sequential()\n",
    "model.add(LSTM(units = lstm_units, return_sequences = True, input_shape = (X_train.shape[1],1)))\n",
    "model.add(LSTM(units = lstm_units))\n",
    "model.add(Dense(1))"
   ]
  },
  {
   "cell_type": "code",
   "execution_count": 22,
   "metadata": {},
   "outputs": [
    {
     "name": "stdout",
     "output_type": "stream",
     "text": [
      "WARNING:tensorflow:From C:\\Apps\\anaconda3\\lib\\site-packages\\tensorflow\\python\\ops\\math_ops.py:3066: to_int32 (from tensorflow.python.ops.math_ops) is deprecated and will be removed in a future version.\n",
      "Instructions for updating:\n",
      "Use tf.cast instead.\n",
      "Epoch 1/1\n",
      " - 39s - loss: 0.0033\n"
     ]
    },
    {
     "data": {
      "text/plain": [
       "<keras.callbacks.History at 0x1e49cdde808>"
      ]
     },
     "execution_count": 22,
     "metadata": {},
     "output_type": "execute_result"
    }
   ],
   "source": [
    "# Compile and fit the LSTM network\n",
    "model.compile(loss = 'mean_squared_error', optimizer = 'adam')\n",
    "model.fit(X_train, y_train, epochs = epochs, batch_size = batch_size, verbose = 2)"
   ]
  },
  {
   "cell_type": "code",
   "execution_count": 23,
   "metadata": {},
   "outputs": [],
   "source": [
    "# predict stock prices using past 60 stock prices\n",
    "inputs = df['Close'][len(df) - len(test) - 60:].values\n",
    "inputs = inputs.reshape(-1,1)\n",
    "inputs = scaler.transform(inputs)\n",
    "\n",
    "X_test = []\n",
    "for i in range(60, inputs.shape[0]):\n",
    "    X_test.append(inputs[i-60:i,0])\n",
    "X_test = np.array(X_test)\n",
    "\n",
    "X_test = np.reshape(X_test, (X_test.shape[0],X_test.shape[1],1))\n",
    "closing_price = model.predict(X_test)\n",
    "closing_price = scaler.inverse_transform(closing_price)"
   ]
  },
  {
   "cell_type": "code",
   "execution_count": 24,
   "metadata": {},
   "outputs": [
    {
     "data": {
      "image/png": "[encoded data removed]",
      "text/plain": [
       "<Figure size 1440x720 with 1 Axes>"
      ]
     },
     "metadata": {
      "needs_background": "light"
     },
     "output_type": "display_data"
    }
   ],
   "source": [
    "# Plot predicted price vs actual closing price \n",
    "\n",
    "test['Predictions_lstm'] = closing_price\n",
    "plt.figure(figsize = (20,10))\n",
    "plt.xlabel('Year')\n",
    "plt.ylabel('Stock Price ($)')\n",
    "plt.plot(train['Date'], train['Close'], label = 'Closing Price History [train data]')\n",
    "plt.plot(test['Date'], test['Close'], label = 'Closing Price History [test data]')\n",
    "plt.plot(test['Date'], test['Predictions_lstm'], label = 'Closing Price - Predicted')\n",
    "plt.legend(loc = \"upper left\")\n",
    "plt.show()"
   ]
  },
  {
   "cell_type": "code",
   "execution_count": 25,
   "metadata": {},
   "outputs": [
    {
     "name": "stdout",
     "output_type": "stream",
     "text": [
      "Root Mean Squared Error: 1.0450523122349074\n",
      "Mean Absolute Percentage Error (%): 2.24177825849715\n"
     ]
    }
   ],
   "source": [
    "# Evaluate performance\n",
    "rmse_lstm = get_rmse(np.array(test['Close']), np.array(test['Predictions_lstm']))\n",
    "mape_lstm = get_mape(np.array(test['Close']), np.array(test['Predictions_lstm']))\n",
    "print('Root Mean Squared Error: ' + str(rmse_lstm))\n",
    "print('Mean Absolute Percentage Error (%): ' + str(mape_lstm))"
   ]
  },
  {
   "cell_type": "markdown",
   "metadata": {},
   "source": [
    "### Model Performance Comparison "
   ]
  },
  {
   "cell_type": "code",
   "execution_count": 26,
   "metadata": {},
   "outputs": [
    {
     "data": {
      "text/html": [
       "<div>\n",
       "<style scoped>\n",
       "    .dataframe tbody tr th:only-of-type {\n",
       "        vertical-align: middle;\n",
       "    }\n",
       "\n",
       "    .dataframe tbody tr th {\n",
       "        vertical-align: top;\n",
       "    }\n",
       "\n",
       "    .dataframe thead th {\n",
       "        text-align: right;\n",
       "    }\n",
       "</style>\n",
       "<table border=\"1\" class=\"dataframe\">\n",
       "  <thead>\n",
       "    <tr style=\"text-align: right;\">\n",
       "      <th></th>\n",
       "      <th>Metric</th>\n",
       "      <th>Moving Average</th>\n",
       "      <th>LSTM</th>\n",
       "    </tr>\n",
       "  </thead>\n",
       "  <tbody>\n",
       "    <tr>\n",
       "      <th>0</th>\n",
       "      <td>RMSE</td>\n",
       "      <td>3.959782</td>\n",
       "      <td>1.045052</td>\n",
       "    </tr>\n",
       "    <tr>\n",
       "      <th>1</th>\n",
       "      <td>MAPE (%)</td>\n",
       "      <td>6.175503</td>\n",
       "      <td>2.241778</td>\n",
       "    </tr>\n",
       "  </tbody>\n",
       "</table>\n",
       "</div>"
      ],
      "text/plain": [
       "     Metric  Moving Average      LSTM\n",
       "0      RMSE        3.959782  1.045052\n",
       "1  MAPE (%)        6.175503  2.241778"
      ]
     },
     "execution_count": 26,
     "metadata": {},
     "output_type": "execute_result"
    }
   ],
   "source": [
    "d = {'Metric':['RMSE','MAPE (%)'],\n",
    "     'Moving Average': [rmse_ma, mape_ma],\n",
    "     'LSTM': [rmse_lstm, mape_lstm]\n",
    "    \n",
    "}\n",
    "\n",
    "comp_table = pd.DataFrame(d)\n",
    "comp_table"
   ]
  },
  {
   "cell_type": "markdown",
   "metadata": {},
   "source": [
    "Wining Model: **LSTM**"
   ]
  },
  {
   "cell_type": "markdown",
   "metadata": {},
   "source": [
    "### Tune Hyperparameters for LSTM\n",
    "Let's create some functions based on the codes above to help us feed our specific hyperparameters into LSTM model and get RMSE and MAPE with only a few lines of codes."
   ]
  },
  {
   "cell_type": "code",
   "execution_count": 27,
   "metadata": {},
   "outputs": [],
   "source": [
    "# create, compile and fit LSTM netork.\n",
    "def fit_lstm(X_train, y_train, lstm_units = 50, optimizer = 'adam', epochs = 1, \n",
    "             batch_size = 1, loss = 'mean_squared_error'):\n",
    "    \"\"\"\n",
    "    INPUT:\n",
    "    X_train - training input variables (X)\n",
    "    y_train - training output variable (y)\n",
    "    \n",
    "    default(initial) parameters chosen for LSTM\n",
    "    --------------------------------------------\n",
    "    lstm_units = 50\n",
    "    optimizer = 'adam'\n",
    "    epochs = 1\n",
    "    batch_size = 1\n",
    "    loss = 'mean_squared_error'\n",
    "    \n",
    "    OUTPUT:\n",
    "    model - fitted model\n",
    "    \"\"\"\n",
    "    model = Sequential()\n",
    "    model.add(LSTM(units = lstm_units, return_sequences = True, input_shape = (X_train.shape[1],1)))\n",
    "    model.add(LSTM(units = lstm_units))\n",
    "    model.add(Dense(1))\n",
    "    \n",
    "    model.compile(loss = 'mean_squared_error', optimizer = 'adam')\n",
    "    model.fit(X_train, y_train, epochs = epochs, batch_size = batch_size, verbose = 1)\n",
    "    # verbose changed to 1 to show the animated progress...\n",
    "    return model\n",
    "\n",
    "# predict stock price using past 60 stock prices\n",
    "def get_pred_closing_price(df, scaler, model):\n",
    "    \"\"\"\n",
    "    INPUT:\n",
    "    df - dataframe that has been preprocessed\n",
    "    scaler - instantiated object for MixMaxScaler()\n",
    "    model - fitted model\n",
    "    \n",
    "    OUTPUT:\n",
    "    closing_price - predicted closing price using fitted model\n",
    "    \"\"\"\n",
    "    inputs = df['Close'][len(df) - len(test) - 60:].values\n",
    "    inputs = inputs.reshape(-1,1)\n",
    "    inputs = scaler.transform(inputs)\n",
    "\n",
    "    X_test = []\n",
    "    for i in range(60, inputs.shape[0]):\n",
    "        X_test.append(inputs[i-60:i,0])\n",
    "    X_test = np.array(X_test)\n",
    "\n",
    "    X_test = np.reshape(X_test, (X_test.shape[0],X_test.shape[1],1))\n",
    "    closing_price = model.predict(X_test)\n",
    "    closing_price = scaler.inverse_transform(closing_price)\n",
    "    return closing_price\n",
    "\n",
    "# evaluate model performance\n",
    "def model_performance(test, closing_price):\n",
    "    \"\"\"\n",
    "    INPUT:\n",
    "    test - test dataset that contains only 'Date' & 'Close' columns (i.e.test = df[train_num:][['Date', 'Close']])\n",
    "    closing_price - predicted closing price using fitted model\n",
    "    \n",
    "    OUTPUT:\n",
    "    rmse_lstm - RMSE for LSTM\n",
    "    mape_lstm - MAPE(%) for LSTM\n",
    "    \"\"\"\n",
    "    test['Predictions_lstm_tuned'] = closing_price\n",
    "    rmse_lstm = get_rmse(np.array(test['Close']), np.array(test['Predictions_lstm_tuned']))\n",
    "    mape_lstm = get_mape(np.array(test['Close']), np.array(test['Predictions_lstm_tuned']))\n",
    "    print('Root Mean Squared Error: ' + str(rmse_lstm))\n",
    "    print('Mean Absolute Percentage Error (%): ' + str(mape_lstm))\n",
    "    return rmse_lstm, mape_lstm\n",
    "\n",
    "#================================================================================\n",
    "# train, predict, evaluate model\n",
    "def train_pred_eval_model(X_train, y_train, df, scaler, test, \n",
    "                          lstm_units = 50, optimizer = 'adam', epochs = 1, \n",
    "                          batch_size = 1, loss = 'mean_squared_error'):\n",
    "    \"\"\"\n",
    "    INPUT:\n",
    "    X_train - training input variables (X)\n",
    "    y_train - training output variable (y)\n",
    "    df - dataframe that has been preprocessed\n",
    "    scaler - instantiated object for MixMaxScaler()\n",
    "    test - test dataset that contains only 'Date' & 'Close' columns (i.e.test = df[train_num:][['Date', 'Close']])\n",
    "    \n",
    "    default(initial) parameters chosen for LSTM\n",
    "    --------------------------------------------\n",
    "    lstm_units = 50\n",
    "    optimizer = 'adam'\n",
    "    epochs = 1\n",
    "    batch_size = 1\n",
    "    loss = 'mean_squared_error'\n",
    "    \n",
    "    OUTPUT:\n",
    "    rmse_lstm - RMSE for LSTM\n",
    "    mape_lstm - MAPE(%) for LSTM    \n",
    "    \"\"\"\n",
    "    model_tuned = fit_lstm(X_train, y_train, int(lstm_units), optimizer, int(epochs), \n",
    "             int(batch_size), loss)\n",
    "    closing_price_tuned = get_pred_closing_price(df, scaler, model_tuned)\n",
    "    rmse_lstm, mape_lstm = model_performance(test, closing_price_tuned)\n",
    "    return rmse_lstm, mape_lstm"
   ]
  },
  {
   "cell_type": "markdown",
   "metadata": {},
   "source": [
    "### Tune Model - epochs\n",
    "The first LSTM parameter that we can tune is the number of training epochs.\n",
    "\n",
    "One epoch is when the dataset is passed forward and backward through the Neural Network once, two is twice, so on and so fort...\n",
    "\n",
    "There is no right numbers of epochs. Different datasets need different numbers of epochs.\n",
    "\n",
    "Reference: https://towardsdatascience.com/epoch-vs-iterations-vs-batch-size-4dfb9c7ce9c9"
   ]
  },
  {
   "cell_type": "code",
   "execution_count": 28,
   "metadata": {},
   "outputs": [
    {
     "name": "stdout",
     "output_type": "stream",
     "text": [
      "epochs = 1\n",
      "============\n",
      "Epoch 1/1\n",
      "812/812 [==============================] - 60s 74ms/step - loss: 0.0030\n",
      "Root Mean Squared Error: 1.2007355204075025\n",
      "Mean Absolute Percentage Error (%): 2.062681543373996\n",
      " \n",
      "epochs = 2\n",
      "============\n",
      "Epoch 1/2\n",
      "812/812 [==============================] - 49s 60ms/step - loss: 0.0030\n",
      "Epoch 2/2\n",
      "812/812 [==============================] - 57s 70ms/step - loss: 0.0012\n",
      "Root Mean Squared Error: 0.971991569110762\n",
      "Mean Absolute Percentage Error (%): 1.6159223065422803\n",
      " \n",
      "epochs = 3\n",
      "============\n",
      "Epoch 1/3\n",
      "812/812 [==============================] - 48s 59ms/step - loss: 0.0032\n",
      "Epoch 2/3\n",
      "812/812 [==============================] - 45s 56ms/step - loss: 0.0011\n",
      "Epoch 3/3\n",
      "812/812 [==============================] - 45s 55ms/step - loss: 8.0655e-04 0s - loss: 8.117\n",
      "Root Mean Squared Error: 0.7285558512202821\n",
      "Mean Absolute Percentage Error (%): 1.6104394906966353\n",
      " \n",
      "epochs = 4\n",
      "============\n",
      "Epoch 1/4\n",
      "812/812 [==============================] - 48s 60ms/step - loss: 0.0034\n",
      "Epoch 2/4\n",
      "812/812 [==============================] - 49s 60ms/step - loss: 0.0010\n",
      "Epoch 3/4\n",
      "812/812 [==============================] - 47s 58ms/step - loss: 8.1749e-04 0s - loss: 8.1147e\n",
      "Epoch 4/4\n",
      "812/812 [==============================] - 50s 61ms/step - loss: 6.2086e-04\n",
      "Root Mean Squared Error: 1.0107036648272116\n",
      "Mean Absolute Percentage Error (%): 2.137765053218401\n",
      " \n"
     ]
    }
   ],
   "source": [
    "# Test epochs range from 1 to 4 using a for loop, print the RMSE and MAPE results and store results in a dataframe\n",
    "# the rest of the lstm parameters are the initial paramaters\n",
    "\n",
    "epoch_ls, rmse_ls, mape_ls = [], [], []\n",
    "\n",
    "epochs_range = [1, 2, 3, 4]\n",
    "for i in epochs_range:\n",
    "    print('epochs = '+ str(i))\n",
    "    print('============')\n",
    "    rmse_lstm, mape_lstm = train_pred_eval_model(X_train, y_train, df, scaler, test, epochs = i)\n",
    "    \n",
    "    epoch_ls.append(i)\n",
    "    rmse_ls.append(rmse_lstm)\n",
    "    mape_ls.append(mape_lstm)\n",
    "    \n",
    "    print(\" \")\n",
    "\n",
    "col_names = ['Epoch', 'RMSE', 'MAPE']\n",
    "df_epoch = pd.DataFrame(list(zip(epoch_ls, rmse_ls, mape_ls)),\n",
    "                       columns = col_names)"
   ]
  },
  {
   "cell_type": "code",
   "execution_count": 29,
   "metadata": {},
   "outputs": [
    {
     "data": {
      "text/html": [
       "<div>\n",
       "<style scoped>\n",
       "    .dataframe tbody tr th:only-of-type {\n",
       "        vertical-align: middle;\n",
       "    }\n",
       "\n",
       "    .dataframe tbody tr th {\n",
       "        vertical-align: top;\n",
       "    }\n",
       "\n",
       "    .dataframe thead th {\n",
       "        text-align: right;\n",
       "    }\n",
       "</style>\n",
       "<table border=\"1\" class=\"dataframe\">\n",
       "  <thead>\n",
       "    <tr style=\"text-align: right;\">\n",
       "      <th></th>\n",
       "      <th>Epoch</th>\n",
       "      <th>RMSE</th>\n",
       "      <th>MAPE</th>\n",
       "    </tr>\n",
       "  </thead>\n",
       "  <tbody>\n",
       "    <tr>\n",
       "      <th>0</th>\n",
       "      <td>1</td>\n",
       "      <td>1.200736</td>\n",
       "      <td>2.062682</td>\n",
       "    </tr>\n",
       "    <tr>\n",
       "      <th>1</th>\n",
       "      <td>2</td>\n",
       "      <td>0.971992</td>\n",
       "      <td>1.615922</td>\n",
       "    </tr>\n",
       "    <tr>\n",
       "      <th>2</th>\n",
       "      <td>3</td>\n",
       "      <td>0.728556</td>\n",
       "      <td>1.610439</td>\n",
       "    </tr>\n",
       "    <tr>\n",
       "      <th>3</th>\n",
       "      <td>4</td>\n",
       "      <td>1.010704</td>\n",
       "      <td>2.137765</td>\n",
       "    </tr>\n",
       "  </tbody>\n",
       "</table>\n",
       "</div>"
      ],
      "text/plain": [
       "   Epoch      RMSE      MAPE\n",
       "0      1  1.200736  2.062682\n",
       "1      2  0.971992  1.615922\n",
       "2      3  0.728556  1.610439\n",
       "3      4  1.010704  2.137765"
      ]
     },
     "execution_count": 29,
     "metadata": {},
     "output_type": "execute_result"
    }
   ],
   "source": [
    "# results in dataframe\n",
    "df_epoch"
   ]
  },
  {
   "cell_type": "markdown",
   "metadata": {},
   "source": [
    "Winner epochs = **3**"
   ]
  },
  {
   "cell_type": "markdown",
   "metadata": {},
   "source": [
    "### Tune Model - batch size\n",
    "Batch size is total number of training examples present in a single batch. We cannot pass the entire dataset into the neural network at once, so we divide dataset into number of batches.\n",
    "\n",
    "Reference: https://towardsdatascience.com/epoch-vs-iterations-vs-batch-size-4dfb9c7ce9c9"
   ]
  },
  {
   "cell_type": "code",
   "execution_count": 30,
   "metadata": {},
   "outputs": [
    {
     "name": "stdout",
     "output_type": "stream",
     "text": [
      "batch_size = 1\n",
      "==============\n",
      "Epoch 1/1\n",
      "812/812 [==============================] - 41s 51ms/step - loss: 0.0029 \n",
      "Root Mean Squared Error: 1.347579609830661\n",
      "Mean Absolute Percentage Error (%): 2.303912114268294\n",
      " \n",
      "batch_size = 2\n",
      "==============\n",
      "Epoch 1/1\n",
      "812/812 [==============================] - 27s 33ms/step - loss: 0.0044 0s - lo\n",
      "Root Mean Squared Error: 1.6000647735976528\n",
      "Mean Absolute Percentage Error (%): 3.010526622073342\n",
      " \n",
      "batch_size = 3\n",
      "==============\n",
      "Epoch 1/1\n",
      "812/812 [==============================] - 18s 23ms/step - loss: 0.0062 0s - loss: 0.006\n",
      "Root Mean Squared Error: 1.2338066501551688\n",
      "Mean Absolute Percentage Error (%): 2.1254869108692103\n",
      " \n",
      "batch_size = 4\n",
      "==============\n",
      "Epoch 1/1\n",
      "812/812 [==============================] - 14s 17ms/step - loss: 0.0066\n",
      "Root Mean Squared Error: 1.3683662190434818\n",
      "Mean Absolute Percentage Error (%): 2.430806290142973\n",
      " \n"
     ]
    },
    {
     "data": {
      "text/html": [
       "<div>\n",
       "<style scoped>\n",
       "    .dataframe tbody tr th:only-of-type {\n",
       "        vertical-align: middle;\n",
       "    }\n",
       "\n",
       "    .dataframe tbody tr th {\n",
       "        vertical-align: top;\n",
       "    }\n",
       "\n",
       "    .dataframe thead th {\n",
       "        text-align: right;\n",
       "    }\n",
       "</style>\n",
       "<table border=\"1\" class=\"dataframe\">\n",
       "  <thead>\n",
       "    <tr style=\"text-align: right;\">\n",
       "      <th></th>\n",
       "      <th>Batch Size</th>\n",
       "      <th>RMSE</th>\n",
       "      <th>MAPE</th>\n",
       "    </tr>\n",
       "  </thead>\n",
       "  <tbody>\n",
       "    <tr>\n",
       "      <th>0</th>\n",
       "      <td>1</td>\n",
       "      <td>1.347580</td>\n",
       "      <td>2.303912</td>\n",
       "    </tr>\n",
       "    <tr>\n",
       "      <th>1</th>\n",
       "      <td>2</td>\n",
       "      <td>1.600065</td>\n",
       "      <td>3.010527</td>\n",
       "    </tr>\n",
       "    <tr>\n",
       "      <th>2</th>\n",
       "      <td>3</td>\n",
       "      <td>1.233807</td>\n",
       "      <td>2.125487</td>\n",
       "    </tr>\n",
       "    <tr>\n",
       "      <th>3</th>\n",
       "      <td>4</td>\n",
       "      <td>1.368366</td>\n",
       "      <td>2.430806</td>\n",
       "    </tr>\n",
       "  </tbody>\n",
       "</table>\n",
       "</div>"
      ],
      "text/plain": [
       "   Batch Size      RMSE      MAPE\n",
       "0           1  1.347580  2.303912\n",
       "1           2  1.600065  3.010527\n",
       "2           3  1.233807  2.125487\n",
       "3           4  1.368366  2.430806"
      ]
     },
     "execution_count": 30,
     "metadata": {},
     "output_type": "execute_result"
    }
   ],
   "source": [
    "# Test batch_size range from 1 to 4 using a for loop and print the RMSE and MAPE results, and store results in a dataframe\n",
    "# the rest of the lstm parameters are the initial paramaters\n",
    "\n",
    "batch_size_ls, rmse_ls, mape_ls = [], [], []\n",
    "\n",
    "batch_size_range = [1, 2, 3, 4]\n",
    "for i in batch_size_range:\n",
    "    print('batch_size = '+ str(i))\n",
    "    print('==============')\n",
    "    rmse_lstm, mape_lstm = train_pred_eval_model(X_train, y_train, df, scaler, test, batch_size = i)\n",
    "    \n",
    "    batch_size_ls.append(i)\n",
    "    rmse_ls.append(rmse_lstm)\n",
    "    mape_ls.append(mape_lstm)\n",
    "    \n",
    "    print(\" \")\n",
    "\n",
    "col_names = ['Batch Size', 'RMSE', 'MAPE']\n",
    "df_batch_size = pd.DataFrame(list(zip(batch_size_ls, rmse_ls, mape_ls)),\n",
    "                       columns = col_names)\n",
    "\n",
    "# results in dataframe\n",
    "df_batch_size"
   ]
  },
  {
   "cell_type": "markdown",
   "metadata": {},
   "source": [
    "Winner batch size = **3**"
   ]
  },
  {
   "cell_type": "markdown",
   "metadata": {},
   "source": [
    "### Tune model - optimizer\n",
    "Optimisers play a crucial role in increasing the accuracy of the model.\n",
    "\n",
    "There are many different optimizer available to choose. In short, RMSProp, AdaDelta and Adam are very similar algorithm and since Adam was found to slightly outperform RMSProp, Adam is generally chosen as the best overall choice.\n",
    "\n",
    "Reference: https://deepdatascience.wordpress.com/2016/11/18/which-lstm-optimizer-to-use/\n"
   ]
  },
  {
   "cell_type": "code",
   "execution_count": 31,
   "metadata": {},
   "outputs": [
    {
     "name": "stdout",
     "output_type": "stream",
     "text": [
      "optimizer = adam\n",
      "=====================\n",
      "Epoch 1/1\n",
      "812/812 [==============================] - 46s 57ms/step - loss: 0.0027 0s - loss\n",
      "Root Mean Squared Error: 1.4313693920361965\n",
      "Mean Absolute Percentage Error (%): 2.599009765415091\n",
      " \n",
      "optimizer = sgd\n",
      "=====================\n",
      "Epoch 1/1\n",
      "812/812 [==============================] - 49s 60ms/step - loss: 0.0026\n",
      "Root Mean Squared Error: 0.9110662372793832\n",
      "Mean Absolute Percentage Error (%): 1.508990480183769\n",
      " \n",
      "optimizer = rmsprop\n",
      "=====================\n",
      "Epoch 1/1\n",
      "812/812 [==============================] - 50s 62ms/step - loss: 0.0027\n",
      "Root Mean Squared Error: 1.4464623801109247\n",
      "Mean Absolute Percentage Error (%): 2.709685827709293\n",
      " \n",
      "optimizer = adagrad\n",
      "=====================\n",
      "Epoch 1/1\n",
      "812/812 [==============================] - 54s 67ms/step - loss: 0.0027\n",
      "Root Mean Squared Error: 1.2336679810118192\n",
      "Mean Absolute Percentage Error (%): 2.159142181489781\n",
      " \n",
      "optimizer = adadelta\n",
      "=====================\n",
      "Epoch 1/1\n",
      "812/812 [==============================] - 54s 67ms/step - loss: 0.0032\n",
      "Root Mean Squared Error: 1.0589025447829417\n",
      "Mean Absolute Percentage Error (%): 2.259554651244413\n",
      " \n",
      "optimizer = adamax\n",
      "=====================\n",
      "Epoch 1/1\n",
      "812/812 [==============================] - 63s 78ms/step - loss: 0.0029\n",
      "Root Mean Squared Error: 0.8226854406457061\n",
      "Mean Absolute Percentage Error (%): 1.4203640849274377\n",
      " \n",
      "optimizer = nadam\n",
      "=====================\n",
      "Epoch 1/1\n",
      "812/812 [==============================] - 67s 82ms/step - loss: 0.0035\n",
      "Root Mean Squared Error: 1.070003873908596\n",
      "Mean Absolute Percentage Error (%): 1.747760493472065\n",
      " \n"
     ]
    },
    {
     "data": {
      "text/html": [
       "<div>\n",
       "<style scoped>\n",
       "    .dataframe tbody tr th:only-of-type {\n",
       "        vertical-align: middle;\n",
       "    }\n",
       "\n",
       "    .dataframe tbody tr th {\n",
       "        vertical-align: top;\n",
       "    }\n",
       "\n",
       "    .dataframe thead th {\n",
       "        text-align: right;\n",
       "    }\n",
       "</style>\n",
       "<table border=\"1\" class=\"dataframe\">\n",
       "  <thead>\n",
       "    <tr style=\"text-align: right;\">\n",
       "      <th></th>\n",
       "      <th>Optimizer</th>\n",
       "      <th>RMSE</th>\n",
       "      <th>MAPE</th>\n",
       "    </tr>\n",
       "  </thead>\n",
       "  <tbody>\n",
       "    <tr>\n",
       "      <th>0</th>\n",
       "      <td>adam</td>\n",
       "      <td>1.431369</td>\n",
       "      <td>2.599010</td>\n",
       "    </tr>\n",
       "    <tr>\n",
       "      <th>1</th>\n",
       "      <td>sgd</td>\n",
       "      <td>0.911066</td>\n",
       "      <td>1.508990</td>\n",
       "    </tr>\n",
       "    <tr>\n",
       "      <th>2</th>\n",
       "      <td>rmsprop</td>\n",
       "      <td>1.446462</td>\n",
       "      <td>2.709686</td>\n",
       "    </tr>\n",
       "    <tr>\n",
       "      <th>3</th>\n",
       "      <td>adagrad</td>\n",
       "      <td>1.233668</td>\n",
       "      <td>2.159142</td>\n",
       "    </tr>\n",
       "    <tr>\n",
       "      <th>4</th>\n",
       "      <td>adadelta</td>\n",
       "      <td>1.058903</td>\n",
       "      <td>2.259555</td>\n",
       "    </tr>\n",
       "    <tr>\n",
       "      <th>5</th>\n",
       "      <td>adamax</td>\n",
       "      <td>0.822685</td>\n",
       "      <td>1.420364</td>\n",
       "    </tr>\n",
       "    <tr>\n",
       "      <th>6</th>\n",
       "      <td>nadam</td>\n",
       "      <td>1.070004</td>\n",
       "      <td>1.747760</td>\n",
       "    </tr>\n",
       "  </tbody>\n",
       "</table>\n",
       "</div>"
      ],
      "text/plain": [
       "  Optimizer      RMSE      MAPE\n",
       "0      adam  1.431369  2.599010\n",
       "1       sgd  0.911066  1.508990\n",
       "2   rmsprop  1.446462  2.709686\n",
       "3   adagrad  1.233668  2.159142\n",
       "4  adadelta  1.058903  2.259555\n",
       "5    adamax  0.822685  1.420364\n",
       "6     nadam  1.070004  1.747760"
      ]
     },
     "execution_count": 31,
     "metadata": {},
     "output_type": "execute_result"
    }
   ],
   "source": [
    "# Test some of the different optimizer using a for loop and print the RMSE and MAPE results, and store results in a dataframe\n",
    "# the rest of the lstm parameters are the initial paramaters\n",
    "\n",
    "opt_ls, rmse_ls, mape_ls = [], [], []\n",
    "\n",
    "optimizer_list = ['adam', 'sgd', 'rmsprop', 'adagrad', 'adadelta', 'adamax', 'nadam']\n",
    "for i in optimizer_list:\n",
    "    print('optimizer = '+ str(i))\n",
    "    print('=====================')\n",
    "    rmse_lstm, mape_lstm = train_pred_eval_model(X_train, y_train, df, scaler, test, optimizer = i)\n",
    "    \n",
    "    opt_ls.append(i)\n",
    "    rmse_ls.append(rmse_lstm)\n",
    "    mape_ls.append(mape_lstm)\n",
    "    \n",
    "    print(\" \")\n",
    "\n",
    "col_names = ['Optimizer', 'RMSE', 'MAPE']\n",
    "df_opt = pd.DataFrame(list(zip(opt_ls, rmse_ls, mape_ls)),\n",
    "                       columns = col_names)\n",
    "\n",
    "# results in dataframe\n",
    "df_opt"
   ]
  },
  {
   "cell_type": "markdown",
   "metadata": {},
   "source": [
    "Winner optimizer = **adamax**"
   ]
  },
  {
   "cell_type": "code",
   "execution_count": 28,
   "metadata": {},
   "outputs": [
    {
     "name": "stdout",
     "output_type": "stream",
     "text": [
      "Epoch 1/3\n",
      "812/812 [==============================] - 16s 19ms/step - loss: 0.0052\n",
      "Epoch 2/3\n",
      "812/812 [==============================] - 14s 18ms/step - loss: 0.0015\n",
      "Epoch 3/3\n",
      "812/812 [==============================] - 16s 19ms/step - loss: 0.0013\n",
      "Root Mean Squared Error: 0.981730969015777\n",
      "Mean Absolute Percentage Error (%): 1.6226573320198385\n"
     ]
    }
   ],
   "source": [
    "# combine winning parameters and re-train our LSTM model\n",
    "\n",
    "epochs = 3\n",
    "batch_size = 3\n",
    "optimizer = 'adamax'\n",
    "\n",
    "rmse_lstm_tuned, mape_lstm_tuned = train_pred_eval_model(X_train, y_train, df, scaler, test, epochs = 3, \n",
    "                                             batch_size = 3, optimizer = 'adamax')"
   ]
  },
  {
   "cell_type": "code",
   "execution_count": 29,
   "metadata": {},
   "outputs": [],
   "source": [
    "# model comparison before and after LTSM is tuned\n",
    "comp_table_2 = comp_table.drop('Moving Average', axis = 1)\n",
    "comp_table_2['LSTM_tuned'] = [rmse_lstm_tuned, mape_lstm_tuned]"
   ]
  },
  {
   "cell_type": "code",
   "execution_count": 30,
   "metadata": {},
   "outputs": [
    {
     "data": {
      "text/html": [
       "<div>\n",
       "<style scoped>\n",
       "    .dataframe tbody tr th:only-of-type {\n",
       "        vertical-align: middle;\n",
       "    }\n",
       "\n",
       "    .dataframe tbody tr th {\n",
       "        vertical-align: top;\n",
       "    }\n",
       "\n",
       "    .dataframe thead th {\n",
       "        text-align: right;\n",
       "    }\n",
       "</style>\n",
       "<table border=\"1\" class=\"dataframe\">\n",
       "  <thead>\n",
       "    <tr style=\"text-align: right;\">\n",
       "      <th></th>\n",
       "      <th>Metric</th>\n",
       "      <th>LSTM</th>\n",
       "      <th>LSTM_tuned</th>\n",
       "    </tr>\n",
       "  </thead>\n",
       "  <tbody>\n",
       "    <tr>\n",
       "      <th>0</th>\n",
       "      <td>RMSE</td>\n",
       "      <td>1.045052</td>\n",
       "      <td>0.981731</td>\n",
       "    </tr>\n",
       "    <tr>\n",
       "      <th>1</th>\n",
       "      <td>MAPE (%)</td>\n",
       "      <td>2.241778</td>\n",
       "      <td>1.622657</td>\n",
       "    </tr>\n",
       "  </tbody>\n",
       "</table>\n",
       "</div>"
      ],
      "text/plain": [
       "     Metric      LSTM  LSTM_tuned\n",
       "0      RMSE  1.045052    0.981731\n",
       "1  MAPE (%)  2.241778    1.622657"
      ]
     },
     "execution_count": 30,
     "metadata": {},
     "output_type": "execute_result"
    }
   ],
   "source": [
    "comp_table_2"
   ]
  },
  {
   "cell_type": "code",
   "execution_count": null,
   "metadata": {},
   "outputs": [],
   "source": []
  }
 ],
 "metadata": {
  "kernelspec": {
   "display_name": "Python 3",
   "language": "python",
   "name": "python3"
  },
  "language_info": {
   "codemirror_mode": {
    "name": "ipython",
    "version": 3
   },
   "file_extension": ".py",
   "mimetype": "text/x-python",
   "name": "python",
   "nbconvert_exporter": "python",
   "pygments_lexer": "ipython3",
   "version": "3.7.9"
  }
 },
 "nbformat": 4,
 "nbformat_minor": 4
}
